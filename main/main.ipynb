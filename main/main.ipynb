{
 "cells": [
  {
   "cell_type": "code",
   "execution_count": 2,
   "metadata": {},
   "outputs": [],
   "source": [
    "import re\n",
    "import time\n",
    "from bs4 import BeautifulSoup\n",
    "import requests\n",
    "import json\n",
    "#import Levenshtein as lv\n",
    "import numpy as np\n",
    "from gensim import corpora, models, similarities\n",
    "import spacy\n",
    "\n",
    "\n",
    "#for findDOI\n",
    "import feedparser\n",
    "import jellyfish\n",
    "import copy"
   ]
  },
  {
   "cell_type": "code",
   "execution_count": 6,
   "metadata": {},
   "outputs": [],
   "source": [
    "from rss import rss # список рассылки\n",
    "from findDOI import findDOI # функция поиска по doi по названию\n",
    "from ALT import altmetrics # функция поиска альтметрик "
   ]
  },
  {
   "cell_type": "code",
   "execution_count": 5,
   "metadata": {},
   "outputs": [
    {
     "name": "stdout",
     "output_type": "stream",
     "text": [
      "200\n"
     ]
    },
    {
     "data": {
      "text/plain": [
       "{'title': 'A General Strategy for Fabricating Isolated Single Metal Atomic Site Catalysts in Y Zeolite',\n",
       " 'doi': '10.1021/jacs.9b02936',\n",
       " 'pmid': '31117651',\n",
       " 'isbns': [],\n",
       " 'altmetric_jid': '4f6fa4f63cf058f610002f56',\n",
       " 'issns': ['0002-7863', '1520-5126'],\n",
       " 'journal': 'Journal of the American Chemical Society',\n",
       " 'cohorts': {'sci': 2},\n",
       " 'context': {'all': {'count': 13029364,\n",
       "   'mean': 7.9319531459684,\n",
       "   'rank': 10391646,\n",
       "   'pct': 11,\n",
       "   'higher_than': 1452108},\n",
       "  'journal': {'count': 47084,\n",
       "   'mean': 5.378367053926,\n",
       "   'rank': 43335,\n",
       "   'pct': 4,\n",
       "   'higher_than': 2305},\n",
       "  'similar_age_3m': {'count': 133785,\n",
       "   'mean': 11.890596513784,\n",
       "   'rank': 94920,\n",
       "   'pct': 17,\n",
       "   'higher_than': 23820},\n",
       "  'similar_age_journal_3m': {'count': 237,\n",
       "   'mean': 7.5265762711864,\n",
       "   'rank': 202,\n",
       "   'pct': 6,\n",
       "   'higher_than': 15}},\n",
       " 'authors': ['Yiwei Liu',\n",
       "  'Zhi Li',\n",
       "  'Qiuying Yu',\n",
       "  'Yanfei Chen',\n",
       "  'Ziwei Chai',\n",
       "  'Guofeng Zhao',\n",
       "  'Shoujie Liu',\n",
       "  'Weng-Chon Cheong',\n",
       "  'Yuan Pan',\n",
       "  'Qinghua Zhang',\n",
       "  'Lin Gu',\n",
       "  'Lirong Zheng',\n",
       "  'Yu Wang',\n",
       "  'Yong Lu',\n",
       "  'Dingsheng Wang',\n",
       "  'Chen',\n",
       "  'Qing Peng',\n",
       "  'Yunqi Liu',\n",
       "  'Limin Liu',\n",
       "  'Jiesheng Chen',\n",
       "  'Yadong Li'],\n",
       " 'type': 'article',\n",
       " 'handles': [],\n",
       " 'altmetric_id': 61326430,\n",
       " 'schema': '1.5.4',\n",
       " 'is_oa': False,\n",
       " 'publisher_subjects': [{'name': 'Chemical Sciences', 'scheme': 'era'}],\n",
       " 'cited_by_posts_count': 2,\n",
       " 'cited_by_tweeters_count': 2,\n",
       " 'cited_by_accounts_count': 2,\n",
       " 'last_updated': 1559322070,\n",
       " 'score': 0.5,\n",
       " 'history': {'1y': 0.5,\n",
       "  '6m': 0.5,\n",
       "  '3m': 0.5,\n",
       "  '1m': 0.5,\n",
       "  '1w': 0.5,\n",
       "  '6d': 0.5,\n",
       "  '5d': 0.5,\n",
       "  '4d': 0.5,\n",
       "  '3d': 0,\n",
       "  '2d': 0,\n",
       "  '1d': 0,\n",
       "  'at': 0.5},\n",
       " 'url': 'http://dx.doi.org/10.1021/jacs.9b02936',\n",
       " 'added_on': 1559287396,\n",
       " 'published_on': 1559174400,\n",
       " 'scopus_subjects': ['Biochemistry, Genetics and Molecular Biology',\n",
       "  'Chemical Engineering',\n",
       "  'Life Sciences',\n",
       "  'Physical Sciences',\n",
       "  'Chemistry'],\n",
       " 'readers': {'citeulike': 0, 'mendeley': 0, 'connotea': 0},\n",
       " 'readers_count': 0,\n",
       " 'images': {'small': 'https://badges.altmetric.com/?size=64&score=1&types=tttttttt',\n",
       "  'medium': 'https://badges.altmetric.com/?size=100&score=1&types=tttttttt',\n",
       "  'large': 'https://badges.altmetric.com/?size=180&score=1&types=tttttttt'},\n",
       " 'details_url': 'http://www.altmetric.com/details.php?citation_id=61326430'}"
      ]
     },
     "execution_count": 5,
     "metadata": {},
     "output_type": "execute_result"
    }
   ],
   "source": [
    "altmetrics('10.1021/jacs.9b02936' ) "
   ]
  }
 ],
 "metadata": {
  "kernelspec": {
   "display_name": "Python 3",
   "language": "python",
   "name": "python3"
  },
  "language_info": {
   "codemirror_mode": {
    "name": "ipython",
    "version": 3
   },
   "file_extension": ".py",
   "mimetype": "text/x-python",
   "name": "python",
   "nbconvert_exporter": "python",
   "pygments_lexer": "ipython3",
   "version": "3.6.7"
  }
 },
 "nbformat": 4,
 "nbformat_minor": 2
}
